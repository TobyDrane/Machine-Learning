{
 "cells": [
  {
   "cell_type": "code",
   "execution_count": 1,
   "metadata": {},
   "outputs": [],
   "source": [
    "import numpy as np\n",
    "import pandas as pd\n",
    "from scipy.io import loadmat\n",
    "import math\n",
    "import matplotlib.pyplot as plt\n",
    "\n",
    "import torch\n",
    "import torch.nn as nn\n",
    "import torch.nn.functional as F\n",
    "import os\n",
    "\n",
    "os.environ['MKP_DUPLICATE_LIB_OK'] = 'True'"
   ]
  },
  {
   "cell_type": "code",
   "execution_count": 2,
   "metadata": {},
   "outputs": [
    {
     "name": "stdout",
     "output_type": "stream",
     "text": [
      "(0,)\n"
     ]
    }
   ],
   "source": [
    "#\n",
    "# Load train files\n",
    "# \n",
    "train_fn = []\n",
    "\n",
    "data = []\n",
    "# Load all train files\n",
    "for i in range(len(train_fn)):\n",
    "    name = train_fn[i]\n",
    "    matFile = loadmat('./emo_data/train' + name + '.mat')\n",
    "    matFile.keys()\n",
    "    data.append(matFile['data'])\n",
    "    \n",
    "# Note the second dimension for every file has a different length\n",
    "data = np.array(data)\n",
    "np.random.shuffle(data)\n",
    "print(data.shape)"
   ]
  },
  {
   "cell_type": "code",
   "execution_count": 3,
   "metadata": {},
   "outputs": [
    {
     "ename": "IndexError",
     "evalue": "index 0 is out of bounds for axis 0 with size 0",
     "output_type": "error",
     "traceback": [
      "\u001b[0;31m---------------------------------------------------------------------------\u001b[0m",
      "\u001b[0;31mIndexError\u001b[0m                                Traceback (most recent call last)",
      "\u001b[0;32m<ipython-input-3-b603a23fb7ba>\u001b[0m in \u001b[0;36m<module>\u001b[0;34m\u001b[0m\n\u001b[1;32m      1\u001b[0m \u001b[0;31m# X coordinates of 1st person 22 body joints\u001b[0m\u001b[0;34m\u001b[0m\u001b[0;34m\u001b[0m\u001b[0;34m\u001b[0m\u001b[0m\n\u001b[0;32m----> 2\u001b[0;31m \u001b[0mX_coords\u001b[0m \u001b[0;34m=\u001b[0m \u001b[0mdata\u001b[0m\u001b[0;34m[\u001b[0m\u001b[0;36m0\u001b[0m\u001b[0;34m]\u001b[0m\u001b[0;34m[\u001b[0m\u001b[0;34m:\u001b[0m\u001b[0;34m,\u001b[0m \u001b[0;36m0\u001b[0m\u001b[0;34m:\u001b[0m\u001b[0;36m22\u001b[0m\u001b[0;34m]\u001b[0m\u001b[0;34m\u001b[0m\u001b[0;34m\u001b[0m\u001b[0m\n\u001b[0m\u001b[1;32m      3\u001b[0m \u001b[0;31m# Y coordinates of 1st person 22 body joints\u001b[0m\u001b[0;34m\u001b[0m\u001b[0;34m\u001b[0m\u001b[0;34m\u001b[0m\u001b[0m\n\u001b[1;32m      4\u001b[0m \u001b[0mY_coords\u001b[0m \u001b[0;34m=\u001b[0m \u001b[0mdata\u001b[0m\u001b[0;34m[\u001b[0m\u001b[0;36m0\u001b[0m\u001b[0;34m]\u001b[0m\u001b[0;34m[\u001b[0m\u001b[0;34m:\u001b[0m\u001b[0;34m,\u001b[0m \u001b[0;36m22\u001b[0m\u001b[0;34m:\u001b[0m\u001b[0;36m44\u001b[0m\u001b[0;34m]\u001b[0m\u001b[0;34m\u001b[0m\u001b[0;34m\u001b[0m\u001b[0m\n\u001b[1;32m      5\u001b[0m \u001b[0;31m# Z coordinates of 1st person 22 body joints\u001b[0m\u001b[0;34m\u001b[0m\u001b[0;34m\u001b[0m\u001b[0;34m\u001b[0m\u001b[0m\n",
      "\u001b[0;31mIndexError\u001b[0m: index 0 is out of bounds for axis 0 with size 0"
     ]
    }
   ],
   "source": [
    "# X coordinates of 1st person 22 body joints\n",
    "X_coords = data[0][:, 0:22]\n",
    "# Y coordinates of 1st person 22 body joints\n",
    "Y_coords = data[0][:, 22:44]\n",
    "# Z coordinates of 1st person 22 body joints\n",
    "Z_coords = data[0][:, 44:66]\n",
    "\n",
    "print(X_coords.shape)"
   ]
  },
  {
   "cell_type": "code",
   "execution_count": 4,
   "metadata": {},
   "outputs": [],
   "source": [
    "# Plot a single block of coordinate data\n",
    "# Input: data (NxM)\n",
    "def plot_single_line_coord_block(data):\n",
    "    dims = data.shape[1]\n",
    "    print('DIMS ', dims)\n",
    "    for i in range(dims):\n",
    "        plt.plot(data[:, i])\n",
    "        \n",
    "    return plt.show()\n",
    "\n",
    "# Plot all three coordinate blocks together\n",
    "def plot_all_coords(X, Y, Z):\n",
    "    dims = X.shape[1]\n",
    "    for i in range(dims):\n",
    "        plt.plot(X[:, i], color='blue')\n",
    "        plt.plot(Y[:, i], color='green')\n",
    "        plt.plot(Z[:, i], color='red')\n",
    "        \n",
    "    plt.xlabel('Frames')\n",
    "    plt.ylabel('Coordindate Position')\n",
    "    plt.title('Coordinate data (Blue - X, Green - Y, Red - Z)')\n",
    "    return plt.show()"
   ]
  },
  {
   "cell_type": "code",
   "execution_count": 5,
   "metadata": {},
   "outputs": [
    {
     "ename": "NameError",
     "evalue": "name 'X_coords' is not defined",
     "output_type": "error",
     "traceback": [
      "\u001b[0;31m---------------------------------------------------------------------------\u001b[0m",
      "\u001b[0;31mNameError\u001b[0m                                 Traceback (most recent call last)",
      "\u001b[0;32m<ipython-input-5-c4938003eda3>\u001b[0m in \u001b[0;36m<module>\u001b[0;34m\u001b[0m\n\u001b[0;32m----> 1\u001b[0;31m \u001b[0mplot_all_coords\u001b[0m\u001b[0;34m(\u001b[0m\u001b[0mX_coords\u001b[0m\u001b[0;34m,\u001b[0m \u001b[0mY_coords\u001b[0m\u001b[0;34m,\u001b[0m \u001b[0mZ_coords\u001b[0m\u001b[0;34m)\u001b[0m\u001b[0;34m\u001b[0m\u001b[0;34m\u001b[0m\u001b[0m\n\u001b[0m",
      "\u001b[0;31mNameError\u001b[0m: name 'X_coords' is not defined"
     ]
    }
   ],
   "source": [
    "plot_all_coords(X_coords, Y_coords, Z_coords)"
   ]
  },
  {
   "cell_type": "code",
   "execution_count": 6,
   "metadata": {},
   "outputs": [
    {
     "ename": "IndexError",
     "evalue": "index 9 is out of bounds for axis 0 with size 0",
     "output_type": "error",
     "traceback": [
      "\u001b[0;31m---------------------------------------------------------------------------\u001b[0m",
      "\u001b[0;31mIndexError\u001b[0m                                Traceback (most recent call last)",
      "\u001b[0;32m<ipython-input-6-843d471e5800>\u001b[0m in \u001b[0;36m<module>\u001b[0;34m\u001b[0m\n\u001b[1;32m     45\u001b[0m \u001b[0;34m\u001b[0m\u001b[0m\n\u001b[1;32m     46\u001b[0m \u001b[0;31m# Example\u001b[0m\u001b[0;34m\u001b[0m\u001b[0;34m\u001b[0m\u001b[0;34m\u001b[0m\u001b[0m\n\u001b[0;32m---> 47\u001b[0;31m \u001b[0mnew_data\u001b[0m\u001b[0;34m,\u001b[0m \u001b[0mnew_data_labels\u001b[0m\u001b[0;34m,\u001b[0m \u001b[0mnew_data_labels_pain\u001b[0m \u001b[0;34m=\u001b[0m \u001b[0mformat_single_person_coords\u001b[0m\u001b[0;34m(\u001b[0m\u001b[0mdata\u001b[0m\u001b[0;34m[\u001b[0m\u001b[0;36m9\u001b[0m\u001b[0;34m]\u001b[0m\u001b[0;34m)\u001b[0m\u001b[0;34m\u001b[0m\u001b[0;34m\u001b[0m\u001b[0m\n\u001b[0m",
      "\u001b[0;31mIndexError\u001b[0m: index 9 is out of bounds for axis 0 with size 0"
     ]
    }
   ],
   "source": [
    "def format_single_person_coords(single_data_item):\n",
    "    SW_LENGTH = int(180 - (180 * 0.5)) # 3 seconds + 50% overlap\n",
    "    new_data = []\n",
    "    new_data_labels = []\n",
    "    new_data_labels_pain_intensity = []\n",
    "\n",
    "    count = 0\n",
    "    start = 0\n",
    "    end = start + SW_LENGTH\n",
    "    T = single_data_item.shape[0]\n",
    "\n",
    "    while start < T:\n",
    "        currentCoords = single_data_item[start:end, 0:70]\n",
    "        \n",
    "        # Majority vote the pain intensity level\n",
    "        # NOTE: We add one to all the pain intensity levels\n",
    "        # {0: Not Reported, 1: Healthy, 2: Low-Level pain, 3: High-Level Pain}\n",
    "        pain = np.array(single_data_item[start:end, 71]).astype('int64') + 1\n",
    "        majority_pain_intensity = np.argmax(np.bincount(pain))\n",
    "        \n",
    "        # Majority vote the behaviour\n",
    "        behaviours = np.array(single_data_item[start:end, 72]).astype('int64')\n",
    "        majority_protective_behaviour = np.argmax(np.bincount(behaviours))\n",
    "        \n",
    "        A, B = currentCoords.shape\n",
    "        if A < 180:\n",
    "            # We need to pad\n",
    "            currentCoords = np.pad(currentCoords, ((0, 180 - A), (0, 0)))\n",
    "\n",
    "        new_data.append(currentCoords)\n",
    "        new_data_labels.append(majority_protective_behaviour)\n",
    "        new_data_labels_pain_intensity.append(majority_pain_intensity)\n",
    "        \n",
    "        # Update pointers\n",
    "        count += 1\n",
    "        start += SW_LENGTH\n",
    "        end = start + SW_LENGTH\n",
    "\n",
    "    new_data = np.array(new_data)\n",
    "    new_data_labels = np.array(new_data_labels)\n",
    "    # print(new_data.shape)\n",
    "    # print(new_data_labels.shape)\n",
    "    \n",
    "    return new_data, new_data_labels, new_data_labels_pain_intensity\n",
    "\n",
    "# Example\n",
    "new_data, new_data_labels, new_data_labels_pain = format_single_person_coords(data[9])"
   ]
  },
  {
   "cell_type": "code",
   "execution_count": 7,
   "metadata": {},
   "outputs": [],
   "source": [
    "# Device configuration\n",
    "device = torch.device('cuda' if torch.cuda.is_available() else 'cpu')"
   ]
  },
  {
   "cell_type": "code",
   "execution_count": 8,
   "metadata": {},
   "outputs": [],
   "source": [
    "class ProtectiveModel(nn.Module):\n",
    "    def __init__(self, input_size = 70, hidden_layer_size = 1024, output_size = 2):\n",
    "        super().__init__()\n",
    "        self.hidden_layer_size = hidden_layer_size\n",
    "        self.lstm = nn.LSTM(input_size, hidden_layer_size, num_layers = 2)\n",
    "        self.hidden_cell = (torch.zeros(1, 1, self.hidden_layer_size),\n",
    "                            torch.zeros(1, 1, self.hidden_layer_size))\n",
    "        \n",
    "        # MLP\n",
    "        self.linear1 = nn.Linear(hidden_layer_size, (hidden_layer_size // 2))\n",
    "        self.relu = nn.ReLU()\n",
    "        self.linear2 = nn.Linear((hidden_layer_size // 2), output_size)\n",
    "        \n",
    "    def forward(self, input_seq):\n",
    "        lstm_out, self.hidden_cell = self.lstm(input_seq.view(len(input_seq), 1, -1), self.hidden_cell)\n",
    "        lstm_out = lstm_out.view(len(input_seq), -1)\n",
    "        \n",
    "        protective_prediction = self.linear1(lstm_out.view(len(input_seq), -1))\n",
    "        protective_prediction = self.relu(protective_prediction)\n",
    "        protective_prediction = self.linear2(protective_prediction)\n",
    "        \n",
    "        return protective_prediction\n",
    "    \n",
    "class IntensityModel(nn.Module):\n",
    "    def __init__(self, input_size = 70, hidden_layer_size = 1024, output_size = 4):\n",
    "        super().__init__()\n",
    "        self.hidden_layer_size = hidden_layer_size\n",
    "        self.lstm = nn.LSTM(input_size, hidden_layer_size, num_layers = 2)\n",
    "        self.hidden_cell = (torch.zeros(1, 1, self.hidden_layer_size),\n",
    "                            torch.zeros(1, 1, self.hidden_layer_size))\n",
    "        \n",
    "        # MLP\n",
    "        self.linear1 = nn.Linear(hidden_layer_size, (hidden_layer_size // 2))\n",
    "        self.relu = nn.ReLU()\n",
    "        self.linear2 = nn.Linear((hidden_layer_size // 2), output_size)\n",
    "        \n",
    "    def forward(self, input_seq):\n",
    "        lstm_out, self.hidden_cell = self.lstm(input_seq.view(len(input_seq), 1, -1), self.hidden_cell)\n",
    "        lstm_out = lstm_out.view(len(input_seq), -1)\n",
    "        \n",
    "        intensity_prediction = self.linear1(lstm_out.view(len(input_seq), -1))\n",
    "        \n",
    "        return intensity_prediction"
   ]
  },
  {
   "cell_type": "code",
   "execution_count": 9,
   "metadata": {},
   "outputs": [],
   "source": [
    "#\n",
    "# Handle the core train method\n",
    "#\n",
    "def train(loss, optim, epochs, model, data):\n",
    "    for i in range(data.shape[0]):\n",
    "        # Format\n",
    "        new_data, new_data_labels, new_data_labels_pain = format_single_person_coords(data[i])\n",
    "    \n",
    "        for e in range(epochs):\n",
    "            for j in range(new_daa.shape[0]):\n",
    "                optim.zero_grad()\n",
    "                model.hidden_cell = (torch.zeros(1, 1, model.hidden_layer_size), torch.zeros(1, 1, model.hidden_layer_size))\n",
    "                \n",
    "                # Turn into something pytorch cares about\n",
    "                data = torch.Tensor(new_data[j])\n",
    "                label = torch.Tensor([new_data_labels[j]])\n",
    "                pain = torch.Tensor([new_data_labels_pain[j]])\n",
    "                pain = pain.repeat(180).long()\n",
    "                \n",
    "                out = model(data)\n",
    "                \n",
    "                # NOTE: This pain value needs to be changed accordingly to\n",
    "                # what is being tested\n",
    "                _loss = loss(out, pain)\n",
    "                loss.backward()\n",
    "                \n",
    "                optim.step()\n",
    "                \n",
    "    return model"
   ]
  },
  {
   "cell_type": "code",
   "execution_count": 11,
   "metadata": {},
   "outputs": [],
   "source": [
    "test_fn = []\n",
    "test_data = []\n",
    "# Load all train files\n",
    "for i in range(len(test_fn)):\n",
    "    name = test_fn[i]\n",
    "    matFile = loadmat('./emo_data/validation/' + name + '.mat')\n",
    "    matFile.keys()\n",
    "    test_data.append(matFile['data'])\n",
    "    \n",
    "test_data = np.array(test_data)"
   ]
  },
  {
   "cell_type": "code",
   "execution_count": null,
   "metadata": {},
   "outputs": [],
   "source": [
    "def test_model(model, data):\n",
    "    total_percentage = 0\n",
    "    total_intensity_percentage = 0\n",
    "    \n",
    "    for j in range(data.shape[0]):\n",
    "        test_new_data, test_new_data_labels, test_new_data_pain = format_single_person_coords(data[j])\n",
    "\n",
    "        count = 0\n",
    "        intensity_count = 0\n",
    "        \n",
    "        for i in range(data.shape[0]):\n",
    "            _data = torch.Tensor(data[i])\n",
    "            _label = torch.Tensor([data[i]])\n",
    "            _intensity = torch.Tensor([data[i]])\n",
    "\n",
    "            pred = model(_data)\n",
    "            pred = pred.max(1, keepdim=True)[1]\n",
    "\n",
    "            # count += torch.sum(pred == _label).item()\n",
    "            pred_value = np.argmax(np.bincount(pred.detach().numpy()[:, 0].astype('int64')))\n",
    "\n",
    "            # NOTE: This value needs to be changed accordingly to what\n",
    "            # model is being tested\n",
    "            if (_label == pred_value):\n",
    "                count += 1\n",
    "\n",
    "        total_percentage += count / (test_new_data.shape[0]) * 100\n",
    "        \n",
    "    return total_percentage"
   ]
  }
 ],
 "metadata": {
  "kernelspec": {
   "display_name": "Python 3",
   "language": "python",
   "name": "python3"
  },
  "language_info": {
   "codemirror_mode": {
    "name": "ipython",
    "version": 3
   },
   "file_extension": ".py",
   "mimetype": "text/x-python",
   "name": "python",
   "nbconvert_exporter": "python",
   "pygments_lexer": "ipython3",
   "version": "3.8.3"
  }
 },
 "nbformat": 4,
 "nbformat_minor": 4
}
